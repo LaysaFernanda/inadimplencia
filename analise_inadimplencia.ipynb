{
 "cells": [
  {
   "cell_type": "markdown",
   "metadata": {},
   "source": [
    "# Análise do risco de inadimplência dos mutuários\n",
    "\n",
    "Seu projeto é preparar um relatório para a divisão de empréstimos de um banco. Você precisará descobrir se o estado civil de um cliente e o número de filhos têm impacto sobre se ele deixará de pagar um empréstimo. O banco já tem alguns dados sobre a capacidade de crédito dos clientes.\n",
    "\n",
    "Seu relatório será considerado ao criar uma **pontuação de crédito** de um cliente em potencial. A **contagem de crédito** é usada para avaliar a capacidade de um devedor em potencial de pagar seu empréstimo.\n"
   ]
  },
  {
   "cell_type": "markdown",
   "metadata": {},
   "source": [
    "## Abra o arquivo de dados e veja as informações gerais.\n"
   ]
  },
  {
   "cell_type": "code",
   "execution_count": 2,
   "metadata": {},
   "outputs": [],
   "source": [
    "# Carregando todas as bibliotecas\n",
    "import pandas as pd\n",
    "\n",
    "# Carregando os dados\n",
    "dados = pd.read_csv('/datasets/credit_scoring_eng.csv')\n"
   ]
  },
  {
   "cell_type": "markdown",
   "metadata": {},
   "source": [
    "## Tarefa 1. Exploração de dados\n",
    "\n",
    "**Descrição dos dados**\n",
    "- `children` - o número de crianças na família\n",
    "- `days_employed` - experiência de trabalho em dias\n",
    "- `dob_years` - idade do cliente em anos\n",
    "- `education` - educação do cliente\n",
    "- `education_id` - identificador de educação\n",
    "- `family_status` - estado civil do cliente\n",
    "- `family_status_id` - identificador de estado civil\n",
    "- `gender` - gênero do cliente\n",
    "- `income_type` - tipo de emprego\n",
    "- `debt` - havia alguma dívida no pagamento do empréstimo\n",
    "- `total_income` - renda mensal\n",
    "- `purpose` - o objetivo de obter um empréstimo\n"
   ]
  },
  {
   "cell_type": "code",
   "execution_count": 3,
   "metadata": {
    "scrolled": true
   },
   "outputs": [
    {
     "name": "stdout",
     "output_type": "stream",
     "text": [
      "<class 'pandas.core.frame.DataFrame'>\n",
      "RangeIndex: 21525 entries, 0 to 21524\n",
      "Data columns (total 12 columns):\n",
      " #   Column            Non-Null Count  Dtype  \n",
      "---  ------            --------------  -----  \n",
      " 0   children          21525 non-null  int64  \n",
      " 1   days_employed     19351 non-null  float64\n",
      " 2   dob_years         21525 non-null  int64  \n",
      " 3   education         21525 non-null  object \n",
      " 4   education_id      21525 non-null  int64  \n",
      " 5   family_status     21525 non-null  object \n",
      " 6   family_status_id  21525 non-null  int64  \n",
      " 7   gender            21525 non-null  object \n",
      " 8   income_type       21525 non-null  object \n",
      " 9   debt              21525 non-null  int64  \n",
      " 10  total_income      19351 non-null  float64\n",
      " 11  purpose           21525 non-null  object \n",
      "dtypes: float64(2), int64(5), object(5)\n",
      "memory usage: 2.0+ MB\n"
     ]
    }
   ],
   "source": [
    "# Vendo quantas linhas e colunas nosso conjunto de dados tem\n",
    "dados.info()"
   ]
  },
  {
   "cell_type": "markdown",
   "metadata": {},
   "source": [
    "Temos 12 colunas e 21525 linhas.\n"
   ]
  },
  {
   "cell_type": "code",
   "execution_count": 4,
   "metadata": {
    "scrolled": true
   },
   "outputs": [
    {
     "data": {
      "text/html": [
       "<div>\n",
       "<style scoped>\n",
       "    .dataframe tbody tr th:only-of-type {\n",
       "        vertical-align: middle;\n",
       "    }\n",
       "\n",
       "    .dataframe tbody tr th {\n",
       "        vertical-align: top;\n",
       "    }\n",
       "\n",
       "    .dataframe thead th {\n",
       "        text-align: right;\n",
       "    }\n",
       "</style>\n",
       "<table border=\"1\" class=\"dataframe\">\n",
       "  <thead>\n",
       "    <tr style=\"text-align: right;\">\n",
       "      <th></th>\n",
       "      <th>children</th>\n",
       "      <th>days_employed</th>\n",
       "      <th>dob_years</th>\n",
       "      <th>education</th>\n",
       "      <th>education_id</th>\n",
       "      <th>family_status</th>\n",
       "      <th>family_status_id</th>\n",
       "      <th>gender</th>\n",
       "      <th>income_type</th>\n",
       "      <th>debt</th>\n",
       "      <th>total_income</th>\n",
       "      <th>purpose</th>\n",
       "    </tr>\n",
       "  </thead>\n",
       "  <tbody>\n",
       "    <tr>\n",
       "      <th>0</th>\n",
       "      <td>1</td>\n",
       "      <td>-8437.673028</td>\n",
       "      <td>42</td>\n",
       "      <td>bachelor's degree</td>\n",
       "      <td>0</td>\n",
       "      <td>married</td>\n",
       "      <td>0</td>\n",
       "      <td>F</td>\n",
       "      <td>employee</td>\n",
       "      <td>0</td>\n",
       "      <td>40620.102</td>\n",
       "      <td>purchase of the house</td>\n",
       "    </tr>\n",
       "    <tr>\n",
       "      <th>1</th>\n",
       "      <td>1</td>\n",
       "      <td>-4024.803754</td>\n",
       "      <td>36</td>\n",
       "      <td>secondary education</td>\n",
       "      <td>1</td>\n",
       "      <td>married</td>\n",
       "      <td>0</td>\n",
       "      <td>F</td>\n",
       "      <td>employee</td>\n",
       "      <td>0</td>\n",
       "      <td>17932.802</td>\n",
       "      <td>car purchase</td>\n",
       "    </tr>\n",
       "    <tr>\n",
       "      <th>2</th>\n",
       "      <td>0</td>\n",
       "      <td>-5623.422610</td>\n",
       "      <td>33</td>\n",
       "      <td>Secondary Education</td>\n",
       "      <td>1</td>\n",
       "      <td>married</td>\n",
       "      <td>0</td>\n",
       "      <td>M</td>\n",
       "      <td>employee</td>\n",
       "      <td>0</td>\n",
       "      <td>23341.752</td>\n",
       "      <td>purchase of the house</td>\n",
       "    </tr>\n",
       "    <tr>\n",
       "      <th>3</th>\n",
       "      <td>3</td>\n",
       "      <td>-4124.747207</td>\n",
       "      <td>32</td>\n",
       "      <td>secondary education</td>\n",
       "      <td>1</td>\n",
       "      <td>married</td>\n",
       "      <td>0</td>\n",
       "      <td>M</td>\n",
       "      <td>employee</td>\n",
       "      <td>0</td>\n",
       "      <td>42820.568</td>\n",
       "      <td>supplementary education</td>\n",
       "    </tr>\n",
       "    <tr>\n",
       "      <th>4</th>\n",
       "      <td>0</td>\n",
       "      <td>340266.072047</td>\n",
       "      <td>53</td>\n",
       "      <td>secondary education</td>\n",
       "      <td>1</td>\n",
       "      <td>civil partnership</td>\n",
       "      <td>1</td>\n",
       "      <td>F</td>\n",
       "      <td>retiree</td>\n",
       "      <td>0</td>\n",
       "      <td>25378.572</td>\n",
       "      <td>to have a wedding</td>\n",
       "    </tr>\n",
       "    <tr>\n",
       "      <th>5</th>\n",
       "      <td>0</td>\n",
       "      <td>-926.185831</td>\n",
       "      <td>27</td>\n",
       "      <td>bachelor's degree</td>\n",
       "      <td>0</td>\n",
       "      <td>civil partnership</td>\n",
       "      <td>1</td>\n",
       "      <td>M</td>\n",
       "      <td>business</td>\n",
       "      <td>0</td>\n",
       "      <td>40922.170</td>\n",
       "      <td>purchase of the house</td>\n",
       "    </tr>\n",
       "    <tr>\n",
       "      <th>6</th>\n",
       "      <td>0</td>\n",
       "      <td>-2879.202052</td>\n",
       "      <td>43</td>\n",
       "      <td>bachelor's degree</td>\n",
       "      <td>0</td>\n",
       "      <td>married</td>\n",
       "      <td>0</td>\n",
       "      <td>F</td>\n",
       "      <td>business</td>\n",
       "      <td>0</td>\n",
       "      <td>38484.156</td>\n",
       "      <td>housing transactions</td>\n",
       "    </tr>\n",
       "    <tr>\n",
       "      <th>7</th>\n",
       "      <td>0</td>\n",
       "      <td>-152.779569</td>\n",
       "      <td>50</td>\n",
       "      <td>SECONDARY EDUCATION</td>\n",
       "      <td>1</td>\n",
       "      <td>married</td>\n",
       "      <td>0</td>\n",
       "      <td>M</td>\n",
       "      <td>employee</td>\n",
       "      <td>0</td>\n",
       "      <td>21731.829</td>\n",
       "      <td>education</td>\n",
       "    </tr>\n",
       "    <tr>\n",
       "      <th>8</th>\n",
       "      <td>2</td>\n",
       "      <td>-6929.865299</td>\n",
       "      <td>35</td>\n",
       "      <td>BACHELOR'S DEGREE</td>\n",
       "      <td>0</td>\n",
       "      <td>civil partnership</td>\n",
       "      <td>1</td>\n",
       "      <td>F</td>\n",
       "      <td>employee</td>\n",
       "      <td>0</td>\n",
       "      <td>15337.093</td>\n",
       "      <td>having a wedding</td>\n",
       "    </tr>\n",
       "    <tr>\n",
       "      <th>9</th>\n",
       "      <td>0</td>\n",
       "      <td>-2188.756445</td>\n",
       "      <td>41</td>\n",
       "      <td>secondary education</td>\n",
       "      <td>1</td>\n",
       "      <td>married</td>\n",
       "      <td>0</td>\n",
       "      <td>M</td>\n",
       "      <td>employee</td>\n",
       "      <td>0</td>\n",
       "      <td>23108.150</td>\n",
       "      <td>purchase of the house for my family</td>\n",
       "    </tr>\n",
       "  </tbody>\n",
       "</table>\n",
       "</div>"
      ],
      "text/plain": [
       "   children  days_employed  dob_years            education  education_id  \\\n",
       "0         1   -8437.673028         42    bachelor's degree             0   \n",
       "1         1   -4024.803754         36  secondary education             1   \n",
       "2         0   -5623.422610         33  Secondary Education             1   \n",
       "3         3   -4124.747207         32  secondary education             1   \n",
       "4         0  340266.072047         53  secondary education             1   \n",
       "5         0    -926.185831         27    bachelor's degree             0   \n",
       "6         0   -2879.202052         43    bachelor's degree             0   \n",
       "7         0    -152.779569         50  SECONDARY EDUCATION             1   \n",
       "8         2   -6929.865299         35    BACHELOR'S DEGREE             0   \n",
       "9         0   -2188.756445         41  secondary education             1   \n",
       "\n",
       "       family_status  family_status_id gender income_type  debt  total_income  \\\n",
       "0            married                 0      F    employee     0     40620.102   \n",
       "1            married                 0      F    employee     0     17932.802   \n",
       "2            married                 0      M    employee     0     23341.752   \n",
       "3            married                 0      M    employee     0     42820.568   \n",
       "4  civil partnership                 1      F     retiree     0     25378.572   \n",
       "5  civil partnership                 1      M    business     0     40922.170   \n",
       "6            married                 0      F    business     0     38484.156   \n",
       "7            married                 0      M    employee     0     21731.829   \n",
       "8  civil partnership                 1      F    employee     0     15337.093   \n",
       "9            married                 0      M    employee     0     23108.150   \n",
       "\n",
       "                               purpose  \n",
       "0                purchase of the house  \n",
       "1                         car purchase  \n",
       "2                purchase of the house  \n",
       "3              supplementary education  \n",
       "4                    to have a wedding  \n",
       "5                purchase of the house  \n",
       "6                 housing transactions  \n",
       "7                            education  \n",
       "8                     having a wedding  \n",
       "9  purchase of the house for my family  "
      ]
     },
     "execution_count": 4,
     "metadata": {},
     "output_type": "execute_result"
    }
   ],
   "source": [
    "# Exibindo as primeiras 10 linhas.\n",
    "\n",
    "dados.head(10)"
   ]
  },
  {
   "cell_type": "markdown",
   "metadata": {},
   "source": [
    "- A coluna 'education' possui valores duplicados, uns com letra maiúscula, outros com letras minúsculas, e outros que iniciam com letra maiúscula."
   ]
  },
  {
   "cell_type": "code",
   "execution_count": 5,
   "metadata": {
    "scrolled": true
   },
   "outputs": [
    {
     "name": "stdout",
     "output_type": "stream",
     "text": [
      "<class 'pandas.core.frame.DataFrame'>\n",
      "RangeIndex: 21525 entries, 0 to 21524\n",
      "Data columns (total 12 columns):\n",
      " #   Column            Non-Null Count  Dtype  \n",
      "---  ------            --------------  -----  \n",
      " 0   children          21525 non-null  int64  \n",
      " 1   days_employed     19351 non-null  float64\n",
      " 2   dob_years         21525 non-null  int64  \n",
      " 3   education         21525 non-null  object \n",
      " 4   education_id      21525 non-null  int64  \n",
      " 5   family_status     21525 non-null  object \n",
      " 6   family_status_id  21525 non-null  int64  \n",
      " 7   gender            21525 non-null  object \n",
      " 8   income_type       21525 non-null  object \n",
      " 9   debt              21525 non-null  int64  \n",
      " 10  total_income      19351 non-null  float64\n",
      " 11  purpose           21525 non-null  object \n",
      "dtypes: float64(2), int64(5), object(5)\n",
      "memory usage: 2.0+ MB\n"
     ]
    }
   ],
   "source": [
    "# Obtendo informações sobre dados\n",
    "dados.info()"
   ]
  },
  {
   "cell_type": "markdown",
   "metadata": {},
   "source": [
    "As colunas 'days_employed' e 'total_income' possuem valores ausentes. A tabela possui 21525 linhas, enquanto essas colunas possuem 19351 linhas preenchidas."
   ]
  },
  {
   "cell_type": "code",
   "execution_count": 6,
   "metadata": {
    "scrolled": true
   },
   "outputs": [
    {
     "data": {
      "text/html": [
       "<div>\n",
       "<style scoped>\n",
       "    .dataframe tbody tr th:only-of-type {\n",
       "        vertical-align: middle;\n",
       "    }\n",
       "\n",
       "    .dataframe tbody tr th {\n",
       "        vertical-align: top;\n",
       "    }\n",
       "\n",
       "    .dataframe thead th {\n",
       "        text-align: right;\n",
       "    }\n",
       "</style>\n",
       "<table border=\"1\" class=\"dataframe\">\n",
       "  <thead>\n",
       "    <tr style=\"text-align: right;\">\n",
       "      <th></th>\n",
       "      <th>children</th>\n",
       "      <th>days_employed</th>\n",
       "      <th>dob_years</th>\n",
       "      <th>education</th>\n",
       "      <th>education_id</th>\n",
       "      <th>family_status</th>\n",
       "      <th>family_status_id</th>\n",
       "      <th>gender</th>\n",
       "      <th>income_type</th>\n",
       "      <th>debt</th>\n",
       "      <th>total_income</th>\n",
       "      <th>purpose</th>\n",
       "    </tr>\n",
       "  </thead>\n",
       "  <tbody>\n",
       "    <tr>\n",
       "      <th>12</th>\n",
       "      <td>0</td>\n",
       "      <td>NaN</td>\n",
       "      <td>65</td>\n",
       "      <td>secondary education</td>\n",
       "      <td>1</td>\n",
       "      <td>civil partnership</td>\n",
       "      <td>1</td>\n",
       "      <td>M</td>\n",
       "      <td>retiree</td>\n",
       "      <td>0</td>\n",
       "      <td>NaN</td>\n",
       "      <td>to have a wedding</td>\n",
       "    </tr>\n",
       "    <tr>\n",
       "      <th>26</th>\n",
       "      <td>0</td>\n",
       "      <td>NaN</td>\n",
       "      <td>41</td>\n",
       "      <td>secondary education</td>\n",
       "      <td>1</td>\n",
       "      <td>married</td>\n",
       "      <td>0</td>\n",
       "      <td>M</td>\n",
       "      <td>civil servant</td>\n",
       "      <td>0</td>\n",
       "      <td>NaN</td>\n",
       "      <td>education</td>\n",
       "    </tr>\n",
       "    <tr>\n",
       "      <th>29</th>\n",
       "      <td>0</td>\n",
       "      <td>NaN</td>\n",
       "      <td>63</td>\n",
       "      <td>secondary education</td>\n",
       "      <td>1</td>\n",
       "      <td>unmarried</td>\n",
       "      <td>4</td>\n",
       "      <td>F</td>\n",
       "      <td>retiree</td>\n",
       "      <td>0</td>\n",
       "      <td>NaN</td>\n",
       "      <td>building a real estate</td>\n",
       "    </tr>\n",
       "    <tr>\n",
       "      <th>41</th>\n",
       "      <td>0</td>\n",
       "      <td>NaN</td>\n",
       "      <td>50</td>\n",
       "      <td>secondary education</td>\n",
       "      <td>1</td>\n",
       "      <td>married</td>\n",
       "      <td>0</td>\n",
       "      <td>F</td>\n",
       "      <td>civil servant</td>\n",
       "      <td>0</td>\n",
       "      <td>NaN</td>\n",
       "      <td>second-hand car purchase</td>\n",
       "    </tr>\n",
       "    <tr>\n",
       "      <th>55</th>\n",
       "      <td>0</td>\n",
       "      <td>NaN</td>\n",
       "      <td>54</td>\n",
       "      <td>secondary education</td>\n",
       "      <td>1</td>\n",
       "      <td>civil partnership</td>\n",
       "      <td>1</td>\n",
       "      <td>F</td>\n",
       "      <td>retiree</td>\n",
       "      <td>1</td>\n",
       "      <td>NaN</td>\n",
       "      <td>to have a wedding</td>\n",
       "    </tr>\n",
       "    <tr>\n",
       "      <th>...</th>\n",
       "      <td>...</td>\n",
       "      <td>...</td>\n",
       "      <td>...</td>\n",
       "      <td>...</td>\n",
       "      <td>...</td>\n",
       "      <td>...</td>\n",
       "      <td>...</td>\n",
       "      <td>...</td>\n",
       "      <td>...</td>\n",
       "      <td>...</td>\n",
       "      <td>...</td>\n",
       "      <td>...</td>\n",
       "    </tr>\n",
       "    <tr>\n",
       "      <th>21489</th>\n",
       "      <td>2</td>\n",
       "      <td>NaN</td>\n",
       "      <td>47</td>\n",
       "      <td>Secondary Education</td>\n",
       "      <td>1</td>\n",
       "      <td>married</td>\n",
       "      <td>0</td>\n",
       "      <td>M</td>\n",
       "      <td>business</td>\n",
       "      <td>0</td>\n",
       "      <td>NaN</td>\n",
       "      <td>purchase of a car</td>\n",
       "    </tr>\n",
       "    <tr>\n",
       "      <th>21495</th>\n",
       "      <td>1</td>\n",
       "      <td>NaN</td>\n",
       "      <td>50</td>\n",
       "      <td>secondary education</td>\n",
       "      <td>1</td>\n",
       "      <td>civil partnership</td>\n",
       "      <td>1</td>\n",
       "      <td>F</td>\n",
       "      <td>employee</td>\n",
       "      <td>0</td>\n",
       "      <td>NaN</td>\n",
       "      <td>wedding ceremony</td>\n",
       "    </tr>\n",
       "    <tr>\n",
       "      <th>21497</th>\n",
       "      <td>0</td>\n",
       "      <td>NaN</td>\n",
       "      <td>48</td>\n",
       "      <td>BACHELOR'S DEGREE</td>\n",
       "      <td>0</td>\n",
       "      <td>married</td>\n",
       "      <td>0</td>\n",
       "      <td>F</td>\n",
       "      <td>business</td>\n",
       "      <td>0</td>\n",
       "      <td>NaN</td>\n",
       "      <td>building a property</td>\n",
       "    </tr>\n",
       "    <tr>\n",
       "      <th>21502</th>\n",
       "      <td>1</td>\n",
       "      <td>NaN</td>\n",
       "      <td>42</td>\n",
       "      <td>secondary education</td>\n",
       "      <td>1</td>\n",
       "      <td>married</td>\n",
       "      <td>0</td>\n",
       "      <td>F</td>\n",
       "      <td>employee</td>\n",
       "      <td>0</td>\n",
       "      <td>NaN</td>\n",
       "      <td>building a real estate</td>\n",
       "    </tr>\n",
       "    <tr>\n",
       "      <th>21510</th>\n",
       "      <td>2</td>\n",
       "      <td>NaN</td>\n",
       "      <td>28</td>\n",
       "      <td>secondary education</td>\n",
       "      <td>1</td>\n",
       "      <td>married</td>\n",
       "      <td>0</td>\n",
       "      <td>F</td>\n",
       "      <td>employee</td>\n",
       "      <td>0</td>\n",
       "      <td>NaN</td>\n",
       "      <td>car purchase</td>\n",
       "    </tr>\n",
       "  </tbody>\n",
       "</table>\n",
       "<p>2174 rows × 12 columns</p>\n",
       "</div>"
      ],
      "text/plain": [
       "       children  days_employed  dob_years            education  education_id  \\\n",
       "12            0            NaN         65  secondary education             1   \n",
       "26            0            NaN         41  secondary education             1   \n",
       "29            0            NaN         63  secondary education             1   \n",
       "41            0            NaN         50  secondary education             1   \n",
       "55            0            NaN         54  secondary education             1   \n",
       "...         ...            ...        ...                  ...           ...   \n",
       "21489         2            NaN         47  Secondary Education             1   \n",
       "21495         1            NaN         50  secondary education             1   \n",
       "21497         0            NaN         48    BACHELOR'S DEGREE             0   \n",
       "21502         1            NaN         42  secondary education             1   \n",
       "21510         2            NaN         28  secondary education             1   \n",
       "\n",
       "           family_status  family_status_id gender    income_type  debt  \\\n",
       "12     civil partnership                 1      M        retiree     0   \n",
       "26               married                 0      M  civil servant     0   \n",
       "29             unmarried                 4      F        retiree     0   \n",
       "41               married                 0      F  civil servant     0   \n",
       "55     civil partnership                 1      F        retiree     1   \n",
       "...                  ...               ...    ...            ...   ...   \n",
       "21489            married                 0      M       business     0   \n",
       "21495  civil partnership                 1      F       employee     0   \n",
       "21497            married                 0      F       business     0   \n",
       "21502            married                 0      F       employee     0   \n",
       "21510            married                 0      F       employee     0   \n",
       "\n",
       "       total_income                   purpose  \n",
       "12              NaN         to have a wedding  \n",
       "26              NaN                 education  \n",
       "29              NaN    building a real estate  \n",
       "41              NaN  second-hand car purchase  \n",
       "55              NaN         to have a wedding  \n",
       "...             ...                       ...  \n",
       "21489           NaN         purchase of a car  \n",
       "21495           NaN          wedding ceremony  \n",
       "21497           NaN       building a property  \n",
       "21502           NaN    building a real estate  \n",
       "21510           NaN              car purchase  \n",
       "\n",
       "[2174 rows x 12 columns]"
      ]
     },
     "execution_count": 6,
     "metadata": {},
     "output_type": "execute_result"
    }
   ],
   "source": [
    "# Vejamos a tabela filtrada com valores ausentes na primeira coluna com dados ausentes\n",
    "valores_ausentes = dados[dados['days_employed'].isna() == True]\n",
    "valores_ausentes"
   ]
  },
  {
   "cell_type": "code",
   "execution_count": 7,
   "metadata": {},
   "outputs": [
    {
     "name": "stdout",
     "output_type": "stream",
     "text": [
      "2174\n",
      "2174\n"
     ]
    },
    {
     "data": {
      "text/plain": [
       "2174"
      ]
     },
     "execution_count": 7,
     "metadata": {},
     "output_type": "execute_result"
    }
   ],
   "source": [
    "# Aplicando várias condições para filtrar dados e observar o número de linhas na tabela filtrada.\n",
    "print(len(dados[dados['days_employed'].isna() == True]))\n",
    "print(len(valores_ausentes[valores_ausentes['total_income'].isna() == True])) \n",
    "len(valores_ausentes)"
   ]
  },
  {
   "cell_type": "markdown",
   "metadata": {},
   "source": [
    "O número de linhas na tabela filtrada corresponde ao número de valores ausentes. Todas as linhas em que 'days_employed' é ausente, 'total_income' também é ausente. "
   ]
  },
  {
   "cell_type": "markdown",
   "metadata": {},
   "source": [
    "Aparentemente, a maioria das pessoas que possuem valores ausentes nessas colunas têm \"Secondary Education\".\t"
   ]
  },
  {
   "cell_type": "code",
   "execution_count": 8,
   "metadata": {
    "scrolled": true
   },
   "outputs": [
    {
     "name": "stdout",
     "output_type": "stream",
     "text": [
      "10.10%\n"
     ]
    }
   ],
   "source": [
    "porcentagem_ausentes = 2174/21525 * 100\n",
    "print(f'{porcentagem_ausentes:.2f}%')"
   ]
  },
  {
   "cell_type": "markdown",
   "metadata": {},
   "source": [
    "**Conclusão intermediária**\n",
    "\n",
    "10.10% da tabela possui valores ausentes -> é um número consideravelmente grande. "
   ]
  },
  {
   "cell_type": "markdown",
   "metadata": {},
   "source": [
    "Todas as linhas em que 'days_employed' é ausente, 'total_income' também é ausente. "
   ]
  },
  {
   "cell_type": "code",
   "execution_count": 9,
   "metadata": {
    "scrolled": true
   },
   "outputs": [
    {
     "name": "stdout",
     "output_type": "stream",
     "text": [
      "1    1540\n",
      "0     544\n",
      "2      69\n",
      "3      21\n",
      "Name: education_id, dtype: int64\n",
      "70.83716651333947\n"
     ]
    }
   ],
   "source": [
    "# Verificando a distribuição\n",
    "\n",
    "print(valores_ausentes['education_id'].value_counts()) #calcular pelo id pois o nome está escrito de formas diferentes.\n",
    "print(1540/2174 * 100)"
   ]
  },
  {
   "cell_type": "code",
   "execution_count": 10,
   "metadata": {
    "scrolled": false
   },
   "outputs": [
    {
     "name": "stdout",
     "output_type": "stream",
     "text": [
      "employee         1105\n",
      "business          508\n",
      "retiree           413\n",
      "civil servant     147\n",
      "entrepreneur        1\n",
      "Name: income_type, dtype: int64\n",
      "50.82796688132475\n"
     ]
    }
   ],
   "source": [
    "print(valores_ausentes['income_type'].value_counts())\n",
    "print(1105/2174 * 100)"
   ]
  },
  {
   "cell_type": "code",
   "execution_count": 11,
   "metadata": {
    "scrolled": true
   },
   "outputs": [
    {
     "name": "stdout",
     "output_type": "stream",
     "text": [
      "married              1237\n",
      "civil partnership     442\n",
      "unmarried             288\n",
      "divorced              112\n",
      "widow / widower        95\n",
      "Name: family_status, dtype: int64\n",
      "56.89972401103955\n"
     ]
    }
   ],
   "source": [
    "print(valores_ausentes['family_status'].value_counts())\n",
    "print(1237/2174 * 100)"
   ]
  },
  {
   "cell_type": "code",
   "execution_count": 12,
   "metadata": {
    "scrolled": true
   },
   "outputs": [
    {
     "name": "stdout",
     "output_type": "stream",
     "text": [
      " 0     1439\n",
      " 1      475\n",
      " 2      204\n",
      " 3       36\n",
      " 20       9\n",
      " 4        7\n",
      "-1        3\n",
      " 5        1\n",
      "Name: children, dtype: int64\n",
      "66.19135234590617\n"
     ]
    }
   ],
   "source": [
    "print(valores_ausentes['children'].value_counts())\n",
    "print(1439/2174 * 100)"
   ]
  },
  {
   "cell_type": "code",
   "execution_count": 13,
   "metadata": {
    "scrolled": true
   },
   "outputs": [
    {
     "name": "stdout",
     "output_type": "stream",
     "text": [
      "F    1484\n",
      "M     690\n",
      "Name: gender, dtype: int64\n",
      "68.26126954921803\n"
     ]
    }
   ],
   "source": [
    "print(valores_ausentes['gender'].value_counts())\n",
    "print(1484/2174 * 100)"
   ]
  },
  {
   "cell_type": "markdown",
   "metadata": {},
   "source": [
    "Quase 71% das pessoas com valores ausentes, possui \"Secondary Education\".\n",
    "\n",
    "Quase 51% das pessoas com valores ausentes são 'employee' (funcionários).\n",
    "\n",
    "Quase 57% das pessoas com valores ausentes são casadas.\n",
    "\n",
    "66% das pessoas com valores ausentes não tem filhos.\n",
    "\n",
    "68% das pessoas com valores ausentes são mulheres.\n",
    "\n",
    "**Possíveis motivos para valores ausentes nos dados**\n",
    "\n",
    "Tem que calcular a porcentagem dessas mesmas características nos dados originais para saber se é proporcional, se for, não há uma razão para os dados estarem ausentes; se alguma característica não for, provavelmente será devido a ela que os dados estão ausentes."
   ]
  },
  {
   "cell_type": "code",
   "execution_count": 14,
   "metadata": {},
   "outputs": [
    {
     "name": "stdout",
     "output_type": "stream",
     "text": [
      "1    15233\n",
      "0     5260\n",
      "2      744\n",
      "3      282\n",
      "4        6\n",
      "Name: education_id, dtype: int64\n",
      "70.76887340301975\n",
      "\n",
      "employee                       11119\n",
      "business                        5085\n",
      "retiree                         3856\n",
      "civil servant                   1459\n",
      "unemployed                         2\n",
      "entrepreneur                       2\n",
      "student                            1\n",
      "paternity / maternity leave        1\n",
      "Name: income_type, dtype: int64\n",
      "51.656213704994194\n",
      "\n",
      "married              12380\n",
      "civil partnership     4177\n",
      "unmarried             2813\n",
      "divorced              1195\n",
      "widow / widower        960\n",
      "Name: family_status, dtype: int64\n",
      "57.51451800232288\n",
      "\n",
      " 0     14149\n",
      " 1      4818\n",
      " 2      2055\n",
      " 3       330\n",
      " 20       76\n",
      "-1        47\n",
      " 4        41\n",
      " 5         9\n",
      "Name: children, dtype: int64\n",
      "65.732868757259\n",
      "\n",
      "F      14236\n",
      "M       7288\n",
      "XNA        1\n",
      "Name: gender, dtype: int64\n",
      "66.137049941928\n"
     ]
    }
   ],
   "source": [
    "# Verificando a distribuição em todo o conjunto de dados\n",
    "\n",
    "print(dados['education_id'].value_counts())\n",
    "print(15233/21525 * 100)\n",
    "print()\n",
    "print(dados['income_type'].value_counts())\n",
    "print(11119/21525 * 100)\n",
    "print()\n",
    "print(dados['family_status'].value_counts())\n",
    "print(12380/21525 * 100)\n",
    "print()\n",
    "print(dados['children'].value_counts())\n",
    "print(14149/21525 * 100)\n",
    "print()\n",
    "print(dados['gender'].value_counts())\n",
    "print(14236/21525 * 100)"
   ]
  },
  {
   "cell_type": "markdown",
   "metadata": {},
   "source": [
    "**Conclusão intermediária**\n",
    "\n",
    "Quase 71% das pessoas com valores ausentes, possui \"Secondary Education\", o que é semelhante aos dados originais (70,76%), então acredito que não seria uma razão para os dados estarem ausentes.\n",
    "\n",
    "Quase 51% das pessoas com valores ausentes são 'employee' (funcionários), o que também é semelhante aos dados originais (51,65%), então acredito que não seria uma razão para os dados estarem ausentes.\n",
    "\n",
    "Quase 57% das pessoas com valores ausentes são casadas, o que também é semelhante aos dados originais (57,51%), então acredito que não seria uma razão para os dados estarem ausentes.\n",
    "\n",
    "66% das pessoas com valores ausentes não tem filhos, o que também é semelhante aos dados originais (65,73%), então acredito que não seria uma razão para os dados estarem ausentes.\n",
    "\n",
    "68% das pessoas com valores ausentes são mulheres, o que também é semelhante aos dados originais (66,13%), então acredito que não seria uma razão para os dados estarem ausentes."
   ]
  },
  {
   "cell_type": "markdown",
   "metadata": {},
   "source": [
    "**Conclusão intermediária**\n",
    "\n",
    "Acredito que os valores ausentes são acidentais, sem um motivo específico."
   ]
  },
  {
   "cell_type": "markdown",
   "metadata": {},
   "source": [
    "**Conclusões**\n",
    "\n",
    "Não encontrei nenhum padrão. Comparando a porcentagem dos valores da tabela dos valores ausentes com os dados originais, vemos que são semelhantes, proporcionais. Portanto, acredito que os valores estão ausentes aleatoriamente."
   ]
  },
  {
   "cell_type": "markdown",
   "metadata": {},
   "source": [
    "## Transformação de dados\n"
   ]
  },
  {
   "cell_type": "code",
   "execution_count": 15,
   "metadata": {
    "scrolled": true
   },
   "outputs": [
    {
     "data": {
      "text/plain": [
       "secondary education    13750\n",
       "bachelor's degree       4718\n",
       "SECONDARY EDUCATION      772\n",
       "Secondary Education      711\n",
       "some college             668\n",
       "BACHELOR'S DEGREE        274\n",
       "Bachelor's Degree        268\n",
       "primary education        250\n",
       "Some College              47\n",
       "SOME COLLEGE              29\n",
       "PRIMARY EDUCATION         17\n",
       "Primary Education         15\n",
       "graduate degree            4\n",
       "GRADUATE DEGREE            1\n",
       "Graduate Degree            1\n",
       "Name: education, dtype: int64"
      ]
     },
     "execution_count": 15,
     "metadata": {},
     "output_type": "execute_result"
    }
   ],
   "source": [
    "# Vendo todos os valores na coluna de educação para verificar se e quais grafias precisarão ser corrigidas\n",
    "dados['education'].value_counts()"
   ]
  },
  {
   "cell_type": "code",
   "execution_count": 16,
   "metadata": {
    "scrolled": true
   },
   "outputs": [],
   "source": [
    "# Corrijindo os registros\n",
    "\n",
    "dados['education'] = dados['education'].str.lower()"
   ]
  },
  {
   "cell_type": "code",
   "execution_count": 17,
   "metadata": {},
   "outputs": [
    {
     "data": {
      "text/plain": [
       "secondary education    15233\n",
       "bachelor's degree       5260\n",
       "some college             744\n",
       "primary education        282\n",
       "graduate degree            6\n",
       "Name: education, dtype: int64"
      ]
     },
     "execution_count": 17,
     "metadata": {},
     "output_type": "execute_result"
    }
   ],
   "source": [
    "# Verificando todos os valores na coluna para ter certeza de que os corrigimos\n",
    "dados['education'].value_counts()\n"
   ]
  },
  {
   "cell_type": "code",
   "execution_count": 18,
   "metadata": {
    "scrolled": true
   },
   "outputs": [
    {
     "data": {
      "text/plain": [
       " 0     14149\n",
       " 1      4818\n",
       " 2      2055\n",
       " 3       330\n",
       " 20       76\n",
       "-1        47\n",
       " 4        41\n",
       " 5         9\n",
       "Name: children, dtype: int64"
      ]
     },
     "execution_count": 18,
     "metadata": {},
     "output_type": "execute_result"
    }
   ],
   "source": [
    "# Vendo a distribuição de valores na coluna `children`\n",
    "dados['children'].value_counts()"
   ]
  },
  {
   "cell_type": "markdown",
   "metadata": {},
   "source": [
    "Há um número negativo nos dados, não tem como haver -1 criança na família. Pode ser que ao digitar \"1\", sem querer adicionaram o \"-\". Também tem famílias com 20 crianças, o que é improvável. Irei substituir os valores \"-1\" por \"1\", e os valores \"20\" por \"2\"."
   ]
  },
  {
   "cell_type": "code",
   "execution_count": 19,
   "metadata": {},
   "outputs": [],
   "source": [
    "# Transformando o valor \"-1\" em 1\n",
    "\n",
    "dados.loc[dados['children'] == -1, 'children'] = 1\n",
    "\n",
    "# Transformando o valor \"20\" em 2\n",
    "\n",
    "dados.loc[dados['children'] == 20, 'children'] = 2"
   ]
  },
  {
   "cell_type": "code",
   "execution_count": 20,
   "metadata": {},
   "outputs": [
    {
     "data": {
      "text/plain": [
       "0    14149\n",
       "1     4865\n",
       "2     2131\n",
       "3      330\n",
       "4       41\n",
       "5        9\n",
       "Name: children, dtype: int64"
      ]
     },
     "execution_count": 20,
     "metadata": {},
     "output_type": "execute_result"
    }
   ],
   "source": [
    "# Verificando a coluna `children` novamente para ter certeza de que está tudo corrigido\n",
    "dados['children'].value_counts()\n"
   ]
  },
  {
   "cell_type": "code",
   "execution_count": 21,
   "metadata": {},
   "outputs": [
    {
     "data": {
      "text/plain": [
       "-327.685916     1\n",
       "-1580.622577    1\n",
       "-4122.460569    1\n",
       "-2828.237691    1\n",
       "-2636.090517    1\n",
       "               ..\n",
       "-7120.517564    1\n",
       "-2146.884040    1\n",
       "-881.454684     1\n",
       "-794.666350     1\n",
       "-3382.113891    1\n",
       "Name: days_employed, Length: 19351, dtype: int64"
      ]
     },
     "execution_count": 21,
     "metadata": {},
     "output_type": "execute_result"
    }
   ],
   "source": [
    "# Encontrando dados problemáticos em `days_employed`\n",
    "dados['days_employed'].value_counts()"
   ]
  },
  {
   "cell_type": "markdown",
   "metadata": {},
   "source": [
    "Os valores são em maioria negativos, mas acredito que deveriam ser positivos, não existem dias negativos de trabalho. Também estão com muitos números após o ponto, além dos 2174 valores ausentes."
   ]
  },
  {
   "cell_type": "code",
   "execution_count": 21,
   "metadata": {
    "scrolled": true
   },
   "outputs": [],
   "source": [
    "# Transformando valores negativos em positivos\n",
    "\n",
    "try:\n",
    "    for valor in dados['days_employed']:\n",
    "        if valor < 0:\n",
    "            dados.loc[dados['days_employed'] == valor, 'days_employed'] = valor * (-1)\n",
    "except:\n",
    "    print('Tente novamente')\n",
    "    \n",
    "# Arredondando valores \n",
    "dados['days_employed'] = dados['days_employed'].round(decimals=0)\n"
   ]
  },
  {
   "cell_type": "code",
   "execution_count": 22,
   "metadata": {
    "scrolled": true
   },
   "outputs": [
    {
     "data": {
      "text/plain": [
       "0       8438.0\n",
       "1       4025.0\n",
       "2       5623.0\n",
       "3       4125.0\n",
       "4     340266.0\n",
       "5        926.0\n",
       "6       2879.0\n",
       "7        153.0\n",
       "8       6930.0\n",
       "9       2189.0\n",
       "10      4171.0\n",
       "11       793.0\n",
       "12         NaN\n",
       "13      1847.0\n",
       "14      1845.0\n",
       "Name: days_employed, dtype: float64"
      ]
     },
     "execution_count": 22,
     "metadata": {},
     "output_type": "execute_result"
    }
   ],
   "source": [
    "# Verificando o resultado \n",
    "dados['days_employed'].head(15)\n"
   ]
  },
  {
   "cell_type": "code",
   "execution_count": 23,
   "metadata": {
    "scrolled": true
   },
   "outputs": [
    {
     "data": {
      "text/plain": [
       "35    617\n",
       "40    609\n",
       "41    607\n",
       "34    603\n",
       "38    598\n",
       "42    597\n",
       "33    581\n",
       "39    573\n",
       "31    560\n",
       "36    555\n",
       "44    547\n",
       "29    545\n",
       "30    540\n",
       "48    538\n",
       "37    537\n",
       "50    514\n",
       "43    513\n",
       "32    510\n",
       "49    508\n",
       "28    503\n",
       "45    497\n",
       "27    493\n",
       "56    487\n",
       "52    484\n",
       "47    480\n",
       "54    479\n",
       "46    475\n",
       "58    461\n",
       "57    460\n",
       "53    459\n",
       "51    448\n",
       "59    444\n",
       "55    443\n",
       "26    408\n",
       "60    377\n",
       "25    357\n",
       "61    355\n",
       "62    352\n",
       "63    269\n",
       "64    265\n",
       "24    264\n",
       "23    254\n",
       "65    194\n",
       "66    183\n",
       "22    183\n",
       "67    167\n",
       "21    111\n",
       "0     101\n",
       "68     99\n",
       "69     85\n",
       "70     65\n",
       "71     58\n",
       "20     51\n",
       "72     33\n",
       "19     14\n",
       "73      8\n",
       "74      6\n",
       "75      1\n",
       "Name: dob_years, dtype: int64"
      ]
     },
     "execution_count": 23,
     "metadata": {},
     "output_type": "execute_result"
    }
   ],
   "source": [
    "# Verificando `dob_years` para valores suspeitos \n",
    "dados['dob_years'].value_counts()\n"
   ]
  },
  {
   "cell_type": "markdown",
   "metadata": {},
   "source": [
    "Existem 101 registros em que a idade é 0. Nesse caso, acredito que o melhor a se fazer é preenchê-los com a média da coluna."
   ]
  },
  {
   "cell_type": "code",
   "execution_count": 24,
   "metadata": {},
   "outputs": [
    {
     "name": "stdout",
     "output_type": "stream",
     "text": [
      "43.29337979094077\n"
     ]
    }
   ],
   "source": [
    "# Resolvendo os problemas na coluna `dob_years`\n",
    "media_idade = dados['dob_years'].mean()\n",
    "print(media_idade)\n",
    "dados.loc[dados['dob_years'] == 0, 'dob_years'] = media_idade\n",
    "dados['dob_years'] = dados['dob_years'].round(decimals=0)"
   ]
  },
  {
   "cell_type": "code",
   "execution_count": 25,
   "metadata": {},
   "outputs": [
    {
     "data": {
      "text/plain": [
       "35.0    617\n",
       "43.0    614\n",
       "40.0    609\n",
       "41.0    607\n",
       "34.0    603\n",
       "38.0    598\n",
       "42.0    597\n",
       "33.0    581\n",
       "39.0    573\n",
       "31.0    560\n",
       "36.0    555\n",
       "44.0    547\n",
       "29.0    545\n",
       "30.0    540\n",
       "48.0    538\n",
       "37.0    537\n",
       "50.0    514\n",
       "32.0    510\n",
       "49.0    508\n",
       "28.0    503\n",
       "45.0    497\n",
       "27.0    493\n",
       "56.0    487\n",
       "52.0    484\n",
       "47.0    480\n",
       "54.0    479\n",
       "46.0    475\n",
       "58.0    461\n",
       "57.0    460\n",
       "53.0    459\n",
       "51.0    448\n",
       "59.0    444\n",
       "55.0    443\n",
       "26.0    408\n",
       "60.0    377\n",
       "25.0    357\n",
       "61.0    355\n",
       "62.0    352\n",
       "63.0    269\n",
       "64.0    265\n",
       "24.0    264\n",
       "23.0    254\n",
       "65.0    194\n",
       "66.0    183\n",
       "22.0    183\n",
       "67.0    167\n",
       "21.0    111\n",
       "68.0     99\n",
       "69.0     85\n",
       "70.0     65\n",
       "71.0     58\n",
       "20.0     51\n",
       "72.0     33\n",
       "19.0     14\n",
       "73.0      8\n",
       "74.0      6\n",
       "75.0      1\n",
       "Name: dob_years, dtype: int64"
      ]
     },
     "execution_count": 25,
     "metadata": {},
     "output_type": "execute_result"
    }
   ],
   "source": [
    "# Verificando o resultado\n",
    "dados['dob_years'].value_counts()"
   ]
  },
  {
   "cell_type": "code",
   "execution_count": 26,
   "metadata": {},
   "outputs": [
    {
     "data": {
      "text/plain": [
       "married              12380\n",
       "civil partnership     4177\n",
       "unmarried             2813\n",
       "divorced              1195\n",
       "widow / widower        960\n",
       "Name: family_status, dtype: int64"
      ]
     },
     "execution_count": 26,
     "metadata": {},
     "output_type": "execute_result"
    }
   ],
   "source": [
    "# Vendo os valores da coluna family_status\n",
    "dados['family_status'].value_counts()\n"
   ]
  },
  {
   "cell_type": "code",
   "execution_count": 27,
   "metadata": {},
   "outputs": [
    {
     "data": {
      "text/plain": [
       "0"
      ]
     },
     "execution_count": 27,
     "metadata": {},
     "output_type": "execute_result"
    }
   ],
   "source": [
    "dados['family_status'].isna().sum()"
   ]
  },
  {
   "cell_type": "markdown",
   "metadata": {},
   "source": [
    "Aparentemente está tudo ok com esta coluna."
   ]
  },
  {
   "cell_type": "code",
   "execution_count": 28,
   "metadata": {
    "scrolled": true
   },
   "outputs": [
    {
     "data": {
      "text/plain": [
       "F      14236\n",
       "M       7288\n",
       "XNA        1\n",
       "Name: gender, dtype: int64"
      ]
     },
     "execution_count": 28,
     "metadata": {},
     "output_type": "execute_result"
    }
   ],
   "source": [
    "# Vendo os valores na coluna gender\n",
    "dados['gender'].value_counts()"
   ]
  },
  {
   "cell_type": "markdown",
   "metadata": {},
   "source": [
    "Existe 1 registro que é 'XNA'. "
   ]
  },
  {
   "cell_type": "code",
   "execution_count": 29,
   "metadata": {},
   "outputs": [],
   "source": [
    "# Abordando os valores problemáticos\n",
    "dados.loc[dados['gender'] == 'XNA', 'gender'] = 'F' #Substituindo pela moda"
   ]
  },
  {
   "cell_type": "code",
   "execution_count": 30,
   "metadata": {},
   "outputs": [
    {
     "data": {
      "text/plain": [
       "F    14237\n",
       "M     7288\n",
       "Name: gender, dtype: int64"
      ]
     },
     "execution_count": 30,
     "metadata": {},
     "output_type": "execute_result"
    }
   ],
   "source": [
    "# Verificando o resultado\n",
    "dados['gender'].value_counts()\n"
   ]
  },
  {
   "cell_type": "code",
   "execution_count": 31,
   "metadata": {},
   "outputs": [
    {
     "data": {
      "text/plain": [
       "employee                       11119\n",
       "business                        5085\n",
       "retiree                         3856\n",
       "civil servant                   1459\n",
       "unemployed                         2\n",
       "entrepreneur                       2\n",
       "paternity / maternity leave        1\n",
       "student                            1\n",
       "Name: income_type, dtype: int64"
      ]
     },
     "execution_count": 31,
     "metadata": {},
     "output_type": "execute_result"
    }
   ],
   "source": [
    "# Vendo os valores na coluna income_type\n",
    "dados['income_type'].value_counts()"
   ]
  },
  {
   "cell_type": "code",
   "execution_count": 32,
   "metadata": {},
   "outputs": [
    {
     "data": {
      "text/plain": [
       "0"
      ]
     },
     "execution_count": 32,
     "metadata": {},
     "output_type": "execute_result"
    }
   ],
   "source": [
    "dados['income_type'].isna().sum()"
   ]
  },
  {
   "cell_type": "markdown",
   "metadata": {},
   "source": [
    "Aparentemente está tudo ok com esta coluna."
   ]
  },
  {
   "cell_type": "code",
   "execution_count": 33,
   "metadata": {
    "scrolled": true
   },
   "outputs": [
    {
     "data": {
      "text/plain": [
       "71"
      ]
     },
     "execution_count": 33,
     "metadata": {},
     "output_type": "execute_result"
    }
   ],
   "source": [
    "# Verificando duplicatas \n",
    "dados.duplicated().sum()\n"
   ]
  },
  {
   "cell_type": "code",
   "execution_count": 34,
   "metadata": {},
   "outputs": [],
   "source": [
    "# Abordando as duplicatas\n",
    "dados = dados.drop_duplicates().reset_index(drop=True)"
   ]
  },
  {
   "cell_type": "code",
   "execution_count": 35,
   "metadata": {},
   "outputs": [
    {
     "data": {
      "text/plain": [
       "0"
      ]
     },
     "execution_count": 35,
     "metadata": {},
     "output_type": "execute_result"
    }
   ],
   "source": [
    "# Última verificação se temos duplicatas\n",
    "dados.duplicated().sum()"
   ]
  },
  {
   "cell_type": "code",
   "execution_count": 36,
   "metadata": {},
   "outputs": [
    {
     "name": "stdout",
     "output_type": "stream",
     "text": [
      "<class 'pandas.core.frame.DataFrame'>\n",
      "RangeIndex: 21454 entries, 0 to 21453\n",
      "Data columns (total 12 columns):\n",
      " #   Column            Non-Null Count  Dtype  \n",
      "---  ------            --------------  -----  \n",
      " 0   children          21454 non-null  int64  \n",
      " 1   days_employed     19351 non-null  float64\n",
      " 2   dob_years         21454 non-null  float64\n",
      " 3   education         21454 non-null  object \n",
      " 4   education_id      21454 non-null  int64  \n",
      " 5   family_status     21454 non-null  object \n",
      " 6   family_status_id  21454 non-null  int64  \n",
      " 7   gender            21454 non-null  object \n",
      " 8   income_type       21454 non-null  object \n",
      " 9   debt              21454 non-null  int64  \n",
      " 10  total_income      19351 non-null  float64\n",
      " 11  purpose           21454 non-null  object \n",
      "dtypes: float64(3), int64(4), object(5)\n",
      "memory usage: 2.0+ MB\n"
     ]
    }
   ],
   "source": [
    "#Verificando o tamanho do conjunto de dados que você tem agora após as primeiras manipulações com ele\n",
    "dados.info() "
   ]
  },
  {
   "cell_type": "code",
   "execution_count": 37,
   "metadata": {},
   "outputs": [],
   "source": [
    "# Transformando dados float em inteiros \n",
    "dados['children'] = dados['children'].astype('int') \n",
    "dados['dob_years'] = dados['dob_years'].astype('int')\n",
    "#dados['days_employed'] = dados['days_employed'].astype('int') -> não consigo converter para int pois há valores ausentes (NaN)\n",
    "#que são float."
   ]
  },
  {
   "cell_type": "code",
   "execution_count": 38,
   "metadata": {},
   "outputs": [
    {
     "name": "stdout",
     "output_type": "stream",
     "text": [
      "<class 'pandas.core.frame.DataFrame'>\n",
      "RangeIndex: 21454 entries, 0 to 21453\n",
      "Data columns (total 12 columns):\n",
      " #   Column            Non-Null Count  Dtype  \n",
      "---  ------            --------------  -----  \n",
      " 0   children          21454 non-null  int64  \n",
      " 1   days_employed     19351 non-null  float64\n",
      " 2   dob_years         21454 non-null  int64  \n",
      " 3   education         21454 non-null  object \n",
      " 4   education_id      21454 non-null  int64  \n",
      " 5   family_status     21454 non-null  object \n",
      " 6   family_status_id  21454 non-null  int64  \n",
      " 7   gender            21454 non-null  object \n",
      " 8   income_type       21454 non-null  object \n",
      " 9   debt              21454 non-null  int64  \n",
      " 10  total_income      19351 non-null  float64\n",
      " 11  purpose           21454 non-null  object \n",
      "dtypes: float64(2), int64(5), object(5)\n",
      "memory usage: 2.0+ MB\n"
     ]
    }
   ],
   "source": [
    "dados.info()"
   ]
  },
  {
   "cell_type": "markdown",
   "metadata": {},
   "source": [
    "Agora temos 21454 linhas, e antes tínhamos 21525"
   ]
  },
  {
   "cell_type": "markdown",
   "metadata": {},
   "source": [
    "\n",
    "- Primeiro, foi comparado a tabela de valors ausentes (criada a partir dos dados originais) com os dados originais para ver se havia um motivo aparente para os dados estarem ausentes;\n",
    "- Foi analisado coluna por coluna para ver se havia algum valor ausente, valor errado ou duplicado e foram tratados;\n",
    "- Foram preenchidos os valores errados ou com a média ou com a mediana, dependendo se havia ou não valores atípicos significativos;\n",
    "- As duplicatas implicitas da coluna 'education' foram tratadas;\n",
    "- E por fim, as duplicatas de toda a tabela foram removidas."
   ]
  },
  {
   "cell_type": "markdown",
   "metadata": {},
   "source": [
    "# Trabalhando com valores ausentes"
   ]
  },
  {
   "cell_type": "markdown",
   "metadata": {},
   "source": [
    "### Restaurar valores ausentes em `total_income`"
   ]
  },
  {
   "cell_type": "markdown",
   "metadata": {},
   "source": [
    "\n",
    "As colunas 'total_income' e 'days_employed' estão com 2174 valores ausentes. "
   ]
  },
  {
   "cell_type": "code",
   "execution_count": 39,
   "metadata": {},
   "outputs": [
    {
     "name": "stdout",
     "output_type": "stream",
     "text": [
      "19\n"
     ]
    },
    {
     "data": {
      "text/plain": [
       "75"
      ]
     },
     "execution_count": 39,
     "metadata": {},
     "output_type": "execute_result"
    }
   ],
   "source": [
    "print(dados['dob_years'].min())\n",
    "dados['dob_years'].max()"
   ]
  },
  {
   "cell_type": "code",
   "execution_count": 40,
   "metadata": {},
   "outputs": [],
   "source": [
    "# Escrevendo uma função que calcule a categoria de idade\n",
    "def age_group(age):\n",
    "    if age < 30:\n",
    "        return '19 - 29'\n",
    "    elif age < 40:\n",
    "        return '30 - 39'\n",
    "    elif age < 50:\n",
    "        return '40 - 49'\n",
    "    elif age < 60:\n",
    "        return '50 - 59'\n",
    "    elif age < 70:\n",
    "        return '60 - 69'\n",
    "    return '70+'\n"
   ]
  },
  {
   "cell_type": "code",
   "execution_count": 41,
   "metadata": {},
   "outputs": [
    {
     "data": {
      "text/plain": [
       "'30 - 39'"
      ]
     },
     "execution_count": 41,
     "metadata": {},
     "output_type": "execute_result"
    }
   ],
   "source": [
    "# Testando se a função funciona\n",
    "age_group(35)"
   ]
  },
  {
   "cell_type": "code",
   "execution_count": 42,
   "metadata": {},
   "outputs": [],
   "source": [
    "# Criando coluna nova com base na função\n",
    "\n",
    "dados['age_group'] = dados['dob_years'].apply(age_group)"
   ]
  },
  {
   "cell_type": "code",
   "execution_count": 43,
   "metadata": {
    "scrolled": true
   },
   "outputs": [
    {
     "data": {
      "text/plain": [
       "30 - 39    5662\n",
       "40 - 49    5455\n",
       "50 - 59    4657\n",
       "19 - 29    3180\n",
       "60 - 69    2331\n",
       "70+         169\n",
       "Name: age_group, dtype: int64"
      ]
     },
     "execution_count": 43,
     "metadata": {},
     "output_type": "execute_result"
    }
   ],
   "source": [
    "# Verificando como os valores na nova coluna\n",
    "\n",
    "dados['age_group'].value_counts()"
   ]
  },
  {
   "cell_type": "code",
   "execution_count": 44,
   "metadata": {
    "scrolled": false
   },
   "outputs": [
    {
     "data": {
      "text/plain": [
       "age_group\n",
       "40 - 49    28491.929026\n",
       "30 - 39    28312.479963\n",
       "50 - 59    25811.700327\n",
       "19 - 29    25533.960641\n",
       "60 - 69    23242.812818\n",
       "70+        20125.658331\n",
       "Name: total_income, dtype: float64"
      ]
     },
     "execution_count": 44,
     "metadata": {},
     "output_type": "execute_result"
    }
   ],
   "source": [
    "dados.groupby('age_group')['total_income'].mean().sort_values(ascending=False)"
   ]
  },
  {
   "cell_type": "code",
   "execution_count": 45,
   "metadata": {
    "scrolled": true
   },
   "outputs": [
    {
     "data": {
      "text/html": [
       "<div>\n",
       "<style scoped>\n",
       "    .dataframe tbody tr th:only-of-type {\n",
       "        vertical-align: middle;\n",
       "    }\n",
       "\n",
       "    .dataframe tbody tr th {\n",
       "        vertical-align: top;\n",
       "    }\n",
       "\n",
       "    .dataframe thead th {\n",
       "        text-align: right;\n",
       "    }\n",
       "</style>\n",
       "<table border=\"1\" class=\"dataframe\">\n",
       "  <thead>\n",
       "    <tr style=\"text-align: right;\">\n",
       "      <th></th>\n",
       "      <th>children</th>\n",
       "      <th>days_employed</th>\n",
       "      <th>dob_years</th>\n",
       "      <th>education</th>\n",
       "      <th>education_id</th>\n",
       "      <th>family_status</th>\n",
       "      <th>family_status_id</th>\n",
       "      <th>gender</th>\n",
       "      <th>income_type</th>\n",
       "      <th>debt</th>\n",
       "      <th>total_income</th>\n",
       "      <th>purpose</th>\n",
       "      <th>age_group</th>\n",
       "    </tr>\n",
       "  </thead>\n",
       "  <tbody>\n",
       "    <tr>\n",
       "      <th>0</th>\n",
       "      <td>1</td>\n",
       "      <td>8438.0</td>\n",
       "      <td>42</td>\n",
       "      <td>bachelor's degree</td>\n",
       "      <td>0</td>\n",
       "      <td>married</td>\n",
       "      <td>0</td>\n",
       "      <td>F</td>\n",
       "      <td>employee</td>\n",
       "      <td>0</td>\n",
       "      <td>40620.102</td>\n",
       "      <td>purchase of the house</td>\n",
       "      <td>40 - 49</td>\n",
       "    </tr>\n",
       "    <tr>\n",
       "      <th>1</th>\n",
       "      <td>1</td>\n",
       "      <td>4025.0</td>\n",
       "      <td>36</td>\n",
       "      <td>secondary education</td>\n",
       "      <td>1</td>\n",
       "      <td>married</td>\n",
       "      <td>0</td>\n",
       "      <td>F</td>\n",
       "      <td>employee</td>\n",
       "      <td>0</td>\n",
       "      <td>17932.802</td>\n",
       "      <td>car purchase</td>\n",
       "      <td>30 - 39</td>\n",
       "    </tr>\n",
       "    <tr>\n",
       "      <th>2</th>\n",
       "      <td>0</td>\n",
       "      <td>5623.0</td>\n",
       "      <td>33</td>\n",
       "      <td>secondary education</td>\n",
       "      <td>1</td>\n",
       "      <td>married</td>\n",
       "      <td>0</td>\n",
       "      <td>M</td>\n",
       "      <td>employee</td>\n",
       "      <td>0</td>\n",
       "      <td>23341.752</td>\n",
       "      <td>purchase of the house</td>\n",
       "      <td>30 - 39</td>\n",
       "    </tr>\n",
       "    <tr>\n",
       "      <th>3</th>\n",
       "      <td>3</td>\n",
       "      <td>4125.0</td>\n",
       "      <td>32</td>\n",
       "      <td>secondary education</td>\n",
       "      <td>1</td>\n",
       "      <td>married</td>\n",
       "      <td>0</td>\n",
       "      <td>M</td>\n",
       "      <td>employee</td>\n",
       "      <td>0</td>\n",
       "      <td>42820.568</td>\n",
       "      <td>supplementary education</td>\n",
       "      <td>30 - 39</td>\n",
       "    </tr>\n",
       "    <tr>\n",
       "      <th>4</th>\n",
       "      <td>0</td>\n",
       "      <td>340266.0</td>\n",
       "      <td>53</td>\n",
       "      <td>secondary education</td>\n",
       "      <td>1</td>\n",
       "      <td>civil partnership</td>\n",
       "      <td>1</td>\n",
       "      <td>F</td>\n",
       "      <td>retiree</td>\n",
       "      <td>0</td>\n",
       "      <td>25378.572</td>\n",
       "      <td>to have a wedding</td>\n",
       "      <td>50 - 59</td>\n",
       "    </tr>\n",
       "    <tr>\n",
       "      <th>...</th>\n",
       "      <td>...</td>\n",
       "      <td>...</td>\n",
       "      <td>...</td>\n",
       "      <td>...</td>\n",
       "      <td>...</td>\n",
       "      <td>...</td>\n",
       "      <td>...</td>\n",
       "      <td>...</td>\n",
       "      <td>...</td>\n",
       "      <td>...</td>\n",
       "      <td>...</td>\n",
       "      <td>...</td>\n",
       "      <td>...</td>\n",
       "    </tr>\n",
       "    <tr>\n",
       "      <th>21449</th>\n",
       "      <td>1</td>\n",
       "      <td>4529.0</td>\n",
       "      <td>43</td>\n",
       "      <td>secondary education</td>\n",
       "      <td>1</td>\n",
       "      <td>civil partnership</td>\n",
       "      <td>1</td>\n",
       "      <td>F</td>\n",
       "      <td>business</td>\n",
       "      <td>0</td>\n",
       "      <td>35966.698</td>\n",
       "      <td>housing transactions</td>\n",
       "      <td>40 - 49</td>\n",
       "    </tr>\n",
       "    <tr>\n",
       "      <th>21450</th>\n",
       "      <td>0</td>\n",
       "      <td>343937.0</td>\n",
       "      <td>67</td>\n",
       "      <td>secondary education</td>\n",
       "      <td>1</td>\n",
       "      <td>married</td>\n",
       "      <td>0</td>\n",
       "      <td>F</td>\n",
       "      <td>retiree</td>\n",
       "      <td>0</td>\n",
       "      <td>24959.969</td>\n",
       "      <td>purchase of a car</td>\n",
       "      <td>60 - 69</td>\n",
       "    </tr>\n",
       "    <tr>\n",
       "      <th>21451</th>\n",
       "      <td>1</td>\n",
       "      <td>2113.0</td>\n",
       "      <td>38</td>\n",
       "      <td>secondary education</td>\n",
       "      <td>1</td>\n",
       "      <td>civil partnership</td>\n",
       "      <td>1</td>\n",
       "      <td>M</td>\n",
       "      <td>employee</td>\n",
       "      <td>1</td>\n",
       "      <td>14347.610</td>\n",
       "      <td>property</td>\n",
       "      <td>30 - 39</td>\n",
       "    </tr>\n",
       "    <tr>\n",
       "      <th>21452</th>\n",
       "      <td>3</td>\n",
       "      <td>3112.0</td>\n",
       "      <td>38</td>\n",
       "      <td>secondary education</td>\n",
       "      <td>1</td>\n",
       "      <td>married</td>\n",
       "      <td>0</td>\n",
       "      <td>M</td>\n",
       "      <td>employee</td>\n",
       "      <td>1</td>\n",
       "      <td>39054.888</td>\n",
       "      <td>buying my own car</td>\n",
       "      <td>30 - 39</td>\n",
       "    </tr>\n",
       "    <tr>\n",
       "      <th>21453</th>\n",
       "      <td>2</td>\n",
       "      <td>1985.0</td>\n",
       "      <td>40</td>\n",
       "      <td>secondary education</td>\n",
       "      <td>1</td>\n",
       "      <td>married</td>\n",
       "      <td>0</td>\n",
       "      <td>F</td>\n",
       "      <td>employee</td>\n",
       "      <td>0</td>\n",
       "      <td>13127.587</td>\n",
       "      <td>to buy a car</td>\n",
       "      <td>40 - 49</td>\n",
       "    </tr>\n",
       "  </tbody>\n",
       "</table>\n",
       "<p>19351 rows × 13 columns</p>\n",
       "</div>"
      ],
      "text/plain": [
       "       children  days_employed  dob_years            education  education_id  \\\n",
       "0             1         8438.0         42    bachelor's degree             0   \n",
       "1             1         4025.0         36  secondary education             1   \n",
       "2             0         5623.0         33  secondary education             1   \n",
       "3             3         4125.0         32  secondary education             1   \n",
       "4             0       340266.0         53  secondary education             1   \n",
       "...         ...            ...        ...                  ...           ...   \n",
       "21449         1         4529.0         43  secondary education             1   \n",
       "21450         0       343937.0         67  secondary education             1   \n",
       "21451         1         2113.0         38  secondary education             1   \n",
       "21452         3         3112.0         38  secondary education             1   \n",
       "21453         2         1985.0         40  secondary education             1   \n",
       "\n",
       "           family_status  family_status_id gender income_type  debt  \\\n",
       "0                married                 0      F    employee     0   \n",
       "1                married                 0      F    employee     0   \n",
       "2                married                 0      M    employee     0   \n",
       "3                married                 0      M    employee     0   \n",
       "4      civil partnership                 1      F     retiree     0   \n",
       "...                  ...               ...    ...         ...   ...   \n",
       "21449  civil partnership                 1      F    business     0   \n",
       "21450            married                 0      F     retiree     0   \n",
       "21451  civil partnership                 1      M    employee     1   \n",
       "21452            married                 0      M    employee     1   \n",
       "21453            married                 0      F    employee     0   \n",
       "\n",
       "       total_income                  purpose age_group  \n",
       "0         40620.102    purchase of the house   40 - 49  \n",
       "1         17932.802             car purchase   30 - 39  \n",
       "2         23341.752    purchase of the house   30 - 39  \n",
       "3         42820.568  supplementary education   30 - 39  \n",
       "4         25378.572        to have a wedding   50 - 59  \n",
       "...             ...                      ...       ...  \n",
       "21449     35966.698     housing transactions   40 - 49  \n",
       "21450     24959.969        purchase of a car   60 - 69  \n",
       "21451     14347.610                 property   30 - 39  \n",
       "21452     39054.888        buying my own car   30 - 39  \n",
       "21453     13127.587             to buy a car   40 - 49  \n",
       "\n",
       "[19351 rows x 13 columns]"
      ]
     },
     "execution_count": 45,
     "metadata": {},
     "output_type": "execute_result"
    }
   ],
   "source": [
    "# Criando uma tabela sem valores ausentes e exiba algumas de suas linhas para garantir que ela fique boa\n",
    "sem_ausentes = dados[dados['days_employed'].isna() == False]\n",
    "sem_ausentes"
   ]
  },
  {
   "cell_type": "code",
   "execution_count": 46,
   "metadata": {},
   "outputs": [
    {
     "data": {
      "text/plain": [
       "26787.568354658673"
      ]
     },
     "execution_count": 46,
     "metadata": {},
     "output_type": "execute_result"
    }
   ],
   "source": [
    "# Vendo os valores médios de renda com base em seus fatores identificados\n",
    "sem_ausentes['total_income'].mean()"
   ]
  },
  {
   "cell_type": "code",
   "execution_count": 47,
   "metadata": {
    "scrolled": true
   },
   "outputs": [
    {
     "data": {
      "text/plain": [
       "23202.87"
      ]
     },
     "execution_count": 47,
     "metadata": {},
     "output_type": "execute_result"
    }
   ],
   "source": [
    "# Vendo os valores medianos de renda com base em seus fatores identificados\n",
    "sem_ausentes['total_income'].median()"
   ]
  },
  {
   "cell_type": "markdown",
   "metadata": {},
   "source": [
    "A média e a mediana da renda_total são valores próximos."
   ]
  },
  {
   "cell_type": "code",
   "execution_count": 48,
   "metadata": {},
   "outputs": [
    {
     "name": "stdout",
     "output_type": "stream",
     "text": [
      "43.45754741357036\n",
      "43.632014719411224\n"
     ]
    },
    {
     "data": {
      "text/plain": [
       "43.473664584692834"
      ]
     },
     "execution_count": 48,
     "metadata": {},
     "output_type": "execute_result"
    }
   ],
   "source": [
    "print(sem_ausentes['dob_years'].mean())\n",
    "print(valores_ausentes['dob_years'].mean())\n",
    "dados['dob_years'].mean()"
   ]
  },
  {
   "cell_type": "markdown",
   "metadata": {},
   "source": [
    "A média de idade tanto na tabela completa, quanto nas tabelas só com e sem valores ausentes é 43 anos; e a média de renda para essa idade também é um valor próximo a média e mediana total (28491.929026), sendo a média o valor mais próximo. \n",
    "Portanto o valor que completaria melhor os valores ausentes seria a média, pois:\n",
    "- A média e mediana por grupos de idade é proporcional a quantidade desses grupos de idade presentes na tabela, \n",
    "- Não há valores atípicos significativos, \n",
    "- A média da renda nos dados completos próximo a média da renda na idade de 43 anos (média das idades dos valores ausentes). "
   ]
  },
  {
   "cell_type": "code",
   "execution_count": 49,
   "metadata": {
    "scrolled": true
   },
   "outputs": [
    {
     "data": {
      "text/plain": [
       "2103"
      ]
     },
     "execution_count": 49,
     "metadata": {},
     "output_type": "execute_result"
    }
   ],
   "source": [
    "dados['total_income'].isna().sum()"
   ]
  },
  {
   "cell_type": "code",
   "execution_count": 50,
   "metadata": {},
   "outputs": [],
   "source": [
    "#  Preenchendo os valores ausentes\n",
    "media_renda = sem_ausentes['total_income'].mean()\n",
    "dados['total_income'] = dados['total_income'].fillna(media_renda)\n",
    "        "
   ]
  },
  {
   "cell_type": "code",
   "execution_count": 51,
   "metadata": {},
   "outputs": [
    {
     "data": {
      "text/plain": [
       "0"
      ]
     },
     "execution_count": 51,
     "metadata": {},
     "output_type": "execute_result"
    }
   ],
   "source": [
    "# Verifique se funcionou\n",
    "dados['total_income'].isna().sum()"
   ]
  },
  {
   "cell_type": "code",
   "execution_count": 52,
   "metadata": {},
   "outputs": [
    {
     "name": "stdout",
     "output_type": "stream",
     "text": [
      "<class 'pandas.core.frame.DataFrame'>\n",
      "RangeIndex: 21454 entries, 0 to 21453\n",
      "Data columns (total 13 columns):\n",
      " #   Column            Non-Null Count  Dtype  \n",
      "---  ------            --------------  -----  \n",
      " 0   children          21454 non-null  int64  \n",
      " 1   days_employed     19351 non-null  float64\n",
      " 2   dob_years         21454 non-null  int64  \n",
      " 3   education         21454 non-null  object \n",
      " 4   education_id      21454 non-null  int64  \n",
      " 5   family_status     21454 non-null  object \n",
      " 6   family_status_id  21454 non-null  int64  \n",
      " 7   gender            21454 non-null  object \n",
      " 8   income_type       21454 non-null  object \n",
      " 9   debt              21454 non-null  int64  \n",
      " 10  total_income      21454 non-null  float64\n",
      " 11  purpose           21454 non-null  object \n",
      " 12  age_group         21454 non-null  object \n",
      "dtypes: float64(2), int64(5), object(6)\n",
      "memory usage: 2.1+ MB\n"
     ]
    }
   ],
   "source": [
    "# Verificando se o número total de valores nesta coluna corresponde ao número de valores em outras.\n",
    "dados.info()\n"
   ]
  },
  {
   "cell_type": "markdown",
   "metadata": {},
   "source": [
    "###  Restaurar valores em `days_employed`"
   ]
  },
  {
   "cell_type": "code",
   "execution_count": 53,
   "metadata": {
    "pycharm": {
     "name": "#%%\n"
    }
   },
   "outputs": [
    {
     "data": {
      "text/plain": [
       "age_group\n",
       "70+        320819.168750\n",
       "60 - 69    283926.471599\n",
       "50 - 59    132907.547870\n",
       "40 - 49     13439.223756\n",
       "30 - 39      4155.028186\n",
       "19 - 29      2082.498266\n",
       "Name: days_employed, dtype: float64"
      ]
     },
     "execution_count": 53,
     "metadata": {},
     "output_type": "execute_result"
    }
   ],
   "source": [
    "# Distribuição de `days_employed` médios com base em seus parâmetros identificados\n",
    "\n",
    "dados.groupby('age_group')['days_employed'].mean().sort_values(ascending=False)\n"
   ]
  },
  {
   "cell_type": "code",
   "execution_count": 54,
   "metadata": {
    "scrolled": true
   },
   "outputs": [
    {
     "data": {
      "text/plain": [
       "age_group\n",
       "70+        361337.0\n",
       "60 - 69    354936.0\n",
       "50 - 59      4797.0\n",
       "40 - 49      2109.0\n",
       "30 - 39      1602.0\n",
       "19 - 29       999.0\n",
       "Name: days_employed, dtype: float64"
      ]
     },
     "execution_count": 54,
     "metadata": {},
     "output_type": "execute_result"
    }
   ],
   "source": [
    "# Distribuição de `days_employed` medianos com base em seus parâmetros identificados\n",
    "dados.groupby('age_group')['days_employed'].median().sort_values(ascending=False)"
   ]
  },
  {
   "cell_type": "code",
   "execution_count": 55,
   "metadata": {},
   "outputs": [
    {
     "data": {
      "text/plain": [
       "66914.7279727146"
      ]
     },
     "execution_count": 55,
     "metadata": {},
     "output_type": "execute_result"
    }
   ],
   "source": [
    "dados['days_employed'].mean()"
   ]
  },
  {
   "cell_type": "code",
   "execution_count": 56,
   "metadata": {},
   "outputs": [
    {
     "data": {
      "text/plain": [
       "2194.0"
      ]
     },
     "execution_count": 56,
     "metadata": {},
     "output_type": "execute_result"
    }
   ],
   "source": [
    "dados['days_employed'].median()"
   ]
  },
  {
   "cell_type": "code",
   "execution_count": 57,
   "metadata": {},
   "outputs": [
    {
     "data": {
      "text/plain": [
       "200.0       15\n",
       "206.0       14\n",
       "1482.0      14\n",
       "220.0       14\n",
       "234.0       13\n",
       "            ..\n",
       "338905.0     1\n",
       "6126.0       1\n",
       "329220.0     1\n",
       "2792.0       1\n",
       "2150.0       1\n",
       "Name: days_employed, Length: 9058, dtype: int64"
      ]
     },
     "execution_count": 57,
     "metadata": {},
     "output_type": "execute_result"
    }
   ],
   "source": [
    "dados['days_employed'].value_counts()"
   ]
  },
  {
   "cell_type": "markdown",
   "metadata": {},
   "source": [
    "Nessa coluna, os valores da média e da mediana não são próximos. "
   ]
  },
  {
   "cell_type": "markdown",
   "metadata": {},
   "source": [
    "Acredito que nessa coluna o ideal seria preencher os valores ausentes com a mediana, pois há valores atípicos significativos."
   ]
  },
  {
   "cell_type": "code",
   "execution_count": 58,
   "metadata": {},
   "outputs": [],
   "source": [
    "# Calculando a mediana \n",
    "mediana_days =  dados['days_employed'].median()\n",
    "dados['days_employed'] = dados['days_employed'].fillna(mediana_days)"
   ]
  },
  {
   "cell_type": "code",
   "execution_count": 59,
   "metadata": {},
   "outputs": [
    {
     "data": {
      "text/plain": [
       "0"
      ]
     },
     "execution_count": 59,
     "metadata": {},
     "output_type": "execute_result"
    }
   ],
   "source": [
    "# Verificando se funcionou\n",
    "dados['total_income'].isna().sum()\n"
   ]
  },
  {
   "cell_type": "code",
   "execution_count": 60,
   "metadata": {},
   "outputs": [
    {
     "name": "stdout",
     "output_type": "stream",
     "text": [
      "<class 'pandas.core.frame.DataFrame'>\n",
      "RangeIndex: 21454 entries, 0 to 21453\n",
      "Data columns (total 13 columns):\n",
      " #   Column            Non-Null Count  Dtype  \n",
      "---  ------            --------------  -----  \n",
      " 0   children          21454 non-null  int64  \n",
      " 1   days_employed     21454 non-null  float64\n",
      " 2   dob_years         21454 non-null  int64  \n",
      " 3   education         21454 non-null  object \n",
      " 4   education_id      21454 non-null  int64  \n",
      " 5   family_status     21454 non-null  object \n",
      " 6   family_status_id  21454 non-null  int64  \n",
      " 7   gender            21454 non-null  object \n",
      " 8   income_type       21454 non-null  object \n",
      " 9   debt              21454 non-null  int64  \n",
      " 10  total_income      21454 non-null  float64\n",
      " 11  purpose           21454 non-null  object \n",
      " 12  age_group         21454 non-null  object \n",
      "dtypes: float64(2), int64(5), object(6)\n",
      "memory usage: 2.1+ MB\n"
     ]
    }
   ],
   "source": [
    "# Verificando as entradas em todas as colunas - corrigindo todos os valores ausentes\n",
    "dados.info()"
   ]
  },
  {
   "cell_type": "code",
   "execution_count": 61,
   "metadata": {},
   "outputs": [
    {
     "name": "stdout",
     "output_type": "stream",
     "text": [
      "[1 0 3 2 4 5]\n",
      "\n",
      "['married' 'civil partnership' 'widow / widower' 'divorced' 'unmarried']\n",
      "\n",
      "['employee' 'retiree' 'business' 'civil servant' 'unemployed'\n",
      " 'entrepreneur' 'student' 'paternity / maternity leave']\n"
     ]
    },
    {
     "data": {
      "text/plain": [
       "array(['purchase of the house', 'car purchase', 'supplementary education',\n",
       "       'to have a wedding', 'housing transactions', 'education',\n",
       "       'having a wedding', 'purchase of the house for my family',\n",
       "       'buy real estate', 'buy commercial real estate',\n",
       "       'buy residential real estate', 'construction of own property',\n",
       "       'property', 'building a property', 'buying a second-hand car',\n",
       "       'buying my own car', 'transactions with commercial real estate',\n",
       "       'building a real estate', 'housing',\n",
       "       'transactions with my real estate', 'cars', 'to become educated',\n",
       "       'second-hand car purchase', 'getting an education', 'car',\n",
       "       'wedding ceremony', 'to get a supplementary education',\n",
       "       'purchase of my own house', 'real estate transactions',\n",
       "       'getting higher education', 'to own a car', 'purchase of a car',\n",
       "       'profile education', 'university education',\n",
       "       'buying property for renting out', 'to buy a car',\n",
       "       'housing renovation', 'going to university'], dtype=object)"
      ]
     },
     "execution_count": 61,
     "metadata": {},
     "output_type": "execute_result"
    }
   ],
   "source": [
    "# Verificando os valores exclusivos\n",
    "print(dados['children'].unique())\n",
    "print()\n",
    "print(dados['family_status'].unique())\n",
    "print()\n",
    "print(dados['income_type'].unique())\n",
    "dados['purpose'].unique()"
   ]
  },
  {
   "cell_type": "code",
   "execution_count": 62,
   "metadata": {},
   "outputs": [],
   "source": [
    "# Escrevendo uma função para categorizar os dados com base em tópicos comuns\n",
    "def purpose_group(purpose):\n",
    "    if 'wedding' in purpose:\n",
    "        return 'wedding'\n",
    "    elif 'car' in purpose or 'cars' in purpose:\n",
    "        return 'car'\n",
    "    elif 'real estate' in purpose or 'housing' in purpose or 'property' in purpose or 'house' in purpose:\n",
    "        return 'property'\n",
    "    elif 'education' in purpose or 'university' in purpose or 'educated' in purpose:\n",
    "        return 'education'"
   ]
  },
  {
   "cell_type": "code",
   "execution_count": 63,
   "metadata": {},
   "outputs": [],
   "source": [
    "# Criando uma coluna com as categorias e contando os valores para elas\n",
    "\n",
    "dados['purpose_group'] = dados['purpose'].apply(purpose_group)"
   ]
  },
  {
   "cell_type": "code",
   "execution_count": 64,
   "metadata": {},
   "outputs": [
    {
     "data": {
      "text/plain": [
       "property     10811\n",
       "car           4306\n",
       "education     4013\n",
       "wedding       2324\n",
       "Name: purpose_group, dtype: int64"
      ]
     },
     "execution_count": 64,
     "metadata": {},
     "output_type": "execute_result"
    }
   ],
   "source": [
    "dados['purpose_group'].value_counts()"
   ]
  },
  {
   "cell_type": "code",
   "execution_count": 65,
   "metadata": {},
   "outputs": [
    {
     "name": "stdout",
     "output_type": "stream",
     "text": [
      "3306.762\n"
     ]
    },
    {
     "data": {
      "text/plain": [
       "362496.645"
      ]
     },
     "execution_count": 65,
     "metadata": {},
     "output_type": "execute_result"
    }
   ],
   "source": [
    "# Examinando todos os dados numéricos em coluna selecionada para categorização\n",
    "print(dados['total_income'].min())\n",
    "dados['total_income'].max()"
   ]
  },
  {
   "cell_type": "markdown",
   "metadata": {},
   "source": [
    "Categorizar a renda em intervalos de 50.000 em 50.000, para poder analisar se esse é um motivo para as dívidas."
   ]
  },
  {
   "cell_type": "code",
   "execution_count": 66,
   "metadata": {},
   "outputs": [],
   "source": [
    "# Criando função para categorização em diferentes grupos numéricos com base em intervalos\n",
    "def income_group(income):\n",
    "    if income < 50000:\n",
    "        return '<50000'\n",
    "    elif income < 100000:\n",
    "        return '<100000'\n",
    "    elif income < 150000:\n",
    "        return '<150000'\n",
    "    elif income < 200000:\n",
    "        return '<200000'\n",
    "    elif income < 250000:\n",
    "        return '<250000'\n",
    "    elif income < 300000:\n",
    "        return '<300000'\n",
    "    elif income < 350000:\n",
    "        return '<350000'\n",
    "    return '350+'\n"
   ]
  },
  {
   "cell_type": "code",
   "execution_count": 67,
   "metadata": {},
   "outputs": [],
   "source": [
    "# Criando coluna com categorias\n",
    "dados['income_group'] = dados['total_income'].apply(income_group)\n"
   ]
  },
  {
   "cell_type": "code",
   "execution_count": 68,
   "metadata": {
    "scrolled": true
   },
   "outputs": [
    {
     "data": {
      "text/plain": [
       "<50000     20134\n",
       "<100000     1221\n",
       "<150000       71\n",
       "<200000       17\n",
       "<250000        5\n",
       "<300000        4\n",
       "350+           2\n",
       "Name: income_group, dtype: int64"
      ]
     },
     "execution_count": 68,
     "metadata": {},
     "output_type": "execute_result"
    }
   ],
   "source": [
    "# Contando os valores de cada categoria para ver a distribuição\n",
    "dados['income_group'].value_counts()"
   ]
  },
  {
   "cell_type": "markdown",
   "metadata": {},
   "source": [
    "## Verificar as Hipóteses\n"
   ]
  },
  {
   "cell_type": "markdown",
   "metadata": {},
   "source": [
    "**Existe uma correlação entre o nível de renda e do pagamento em dia?**"
   ]
  },
  {
   "cell_type": "code",
   "execution_count": 69,
   "metadata": {},
   "outputs": [
    {
     "name": "stdout",
     "output_type": "stream",
     "text": [
      "Pagamento em dia\n",
      "children\n",
      "0    0\n",
      "1    0\n",
      "2    0\n",
      "3    0\n",
      "4    0\n",
      "5    0\n",
      "Name: debt, dtype: int64\n",
      "\n",
      "Em dívida\n",
      "children\n",
      "0    1\n",
      "1    1\n",
      "2    1\n",
      "3    1\n",
      "4    1\n",
      "Name: debt, dtype: int64\n"
     ]
    },
    {
     "data": {
      "text/plain": [
       "children\n",
       "4    0.097561\n",
       "2    0.094925\n",
       "1    0.091658\n",
       "3    0.081818\n",
       "0    0.075438\n",
       "5    0.000000\n",
       "Name: debt, dtype: float64"
      ]
     },
     "execution_count": 69,
     "metadata": {},
     "output_type": "execute_result"
    }
   ],
   "source": [
    "# Verificando os dados das crianças e do pagamento em dia\n",
    "\n",
    "print('Pagamento em dia')\n",
    "debt_0 = dados[dados['debt'] == 0]\n",
    "print(debt_0.groupby('children')['debt'].mean().sort_values(ascending=False))\n",
    "\n",
    "print()\n",
    "# Calculando a taxa de inadimplência com base no número de filhos\n",
    "print('Em dívida')\n",
    "debt_1 = dados[dados['debt'] == 1]\n",
    "print(debt_1.groupby('children')['debt'].mean().sort_values(ascending=False))\n",
    "\n",
    "\n",
    "# Calculando a taxa padrão com base no número de filhos\n",
    "dados.groupby('children')['debt'].mean().sort_values(ascending=False)"
   ]
  },
  {
   "cell_type": "markdown",
   "metadata": {},
   "source": [
    "**Conclusão**\n",
    "\n",
    "A média do número de filhos são próximas, apenas pessoas com 5 filhos não tem dívidas, portanto acredito que o número de filhos não influencia se o cliente paga ou não suas dívidas."
   ]
  },
  {
   "cell_type": "markdown",
   "metadata": {},
   "source": [
    "**Existe uma correlação entre o status familiar e o pagamento em dia?**"
   ]
  },
  {
   "cell_type": "code",
   "execution_count": 70,
   "metadata": {},
   "outputs": [
    {
     "name": "stdout",
     "output_type": "stream",
     "text": [
      "Pagamento em dia\n",
      "family_status\n",
      "civil partnership    0\n",
      "divorced             0\n",
      "married              0\n",
      "unmarried            0\n",
      "widow / widower      0\n",
      "Name: debt, dtype: int64\n",
      "\n",
      "Em dívida\n",
      "family_status\n",
      "civil partnership    1\n",
      "divorced             1\n",
      "married              1\n",
      "unmarried            1\n",
      "widow / widower      1\n",
      "Name: debt, dtype: int64\n"
     ]
    },
    {
     "data": {
      "text/plain": [
       "family_status\n",
       "unmarried            0.097509\n",
       "civil partnership    0.093471\n",
       "married              0.075452\n",
       "divorced             0.071130\n",
       "widow / widower      0.065693\n",
       "Name: debt, dtype: float64"
      ]
     },
     "execution_count": 70,
     "metadata": {},
     "output_type": "execute_result"
    }
   ],
   "source": [
    "# Verificando os dados de status da família e do pagamento em dia\n",
    "print('Pagamento em dia')\n",
    "debt_0 = dados[dados['debt'] == 0]\n",
    "print(debt_0.groupby('family_status')['debt'].mean().sort_values(ascending=False))\n",
    "\n",
    "print()\n",
    "# Calculando a taxa de inadimplência com base no status da família\n",
    "print('Em dívida')\n",
    "debt_1 = dados[dados['debt'] == 1]\n",
    "print(debt_1.groupby('family_status')['debt'].mean().sort_values(ascending=False))\n",
    "\n",
    "# Calculando a taxa padrão com base no status da família\n",
    "dados.groupby('family_status')['debt'].mean().sort_values(ascending=False)\n",
    "\n"
   ]
  },
  {
   "cell_type": "markdown",
   "metadata": {},
   "source": [
    "**Conclusão**\n",
    "\n",
    "As médias dos estados civis também são próximas, e observamos que pessoas que já estiveram em um relacionamento e não estão mais (divorciados e viúvos) são os que menos tem dívidas, mas ainda não acredito que influencia se o cliente paga ou não suas dívidas.\n",
    "Solteiros e união estável tendem a inadimplir"
   ]
  },
  {
   "cell_type": "markdown",
   "metadata": {},
   "source": [
    "**Existe uma correlação entre o nível de renda e o pagamento em dia?**"
   ]
  },
  {
   "cell_type": "code",
   "execution_count": 71,
   "metadata": {},
   "outputs": [
    {
     "name": "stdout",
     "output_type": "stream",
     "text": [
      "Pagamento em dia\n",
      "income_group\n",
      "350+       0\n",
      "<100000    0\n",
      "<150000    0\n",
      "<200000    0\n",
      "<250000    0\n",
      "<300000    0\n",
      "<50000     0\n",
      "Name: debt, dtype: int64\n",
      "Em dívida\n",
      "income_group\n",
      "350+       1\n",
      "<100000    1\n",
      "<150000    1\n",
      "<200000    1\n",
      "<50000     1\n",
      "Name: debt, dtype: int64\n"
     ]
    },
    {
     "data": {
      "text/plain": [
       "income_group\n",
       "350+       0.500000\n",
       "<50000     0.081901\n",
       "<100000    0.070434\n",
       "<200000    0.058824\n",
       "<150000    0.056338\n",
       "<250000    0.000000\n",
       "<300000    0.000000\n",
       "Name: debt, dtype: float64"
      ]
     },
     "execution_count": 71,
     "metadata": {},
     "output_type": "execute_result"
    }
   ],
   "source": [
    "# Verificando os dados do nível de renda e do pagamento em dia\n",
    "print('Pagamento em dia')\n",
    "debt_0 = dados[dados['debt'] == 0]\n",
    "print(debt_0.groupby('income_group')['debt'].mean().sort_values(ascending=False))\n",
    "\n",
    "\n",
    "# Calculando a taxa de inadimplência com base no nível de renda\n",
    "print('Em dívida')\n",
    "debt_1 = dados[dados['debt'] == 1]\n",
    "print(debt_1.groupby('income_group')['debt'].mean().sort_values(ascending=False))\n",
    "\n",
    "# Calculando a taxa padrão com base no nível de renda\n",
    "dados.groupby('income_group')['debt'].mean().sort_values(ascending=False)"
   ]
  },
  {
   "cell_type": "markdown",
   "metadata": {},
   "source": [
    "**Conclusão**\n",
    "\n",
    "50% das pessoas que não pagam suas dívidas têm a renda maior que 350000; pessoas que ganham menos possuem pequenas taxas de inadimplência, portanto ter a renda maior que 350000 pode ser um padrão de pessoas que não pagam suas dívidas. "
   ]
  },
  {
   "cell_type": "markdown",
   "metadata": {},
   "source": [
    "**Como a finalidade do crédito afeta a taxa de inadimplência?**"
   ]
  },
  {
   "cell_type": "code",
   "execution_count": 72,
   "metadata": {},
   "outputs": [
    {
     "name": "stdout",
     "output_type": "stream",
     "text": [
      "Pagamento em dia\n",
      "purpose_group\n",
      "car          0\n",
      "education    0\n",
      "property     0\n",
      "wedding      0\n",
      "Name: debt, dtype: int64\n",
      "\n",
      "Em dívida\n",
      "purpose_group\n",
      "car          1\n",
      "education    1\n",
      "property     1\n",
      "wedding      1\n",
      "Name: debt, dtype: int64\n"
     ]
    },
    {
     "data": {
      "text/plain": [
       "purpose_group\n",
       "car          0.093590\n",
       "education    0.092200\n",
       "wedding      0.080034\n",
       "property     0.072334\n",
       "Name: debt, dtype: float64"
      ]
     },
     "execution_count": 72,
     "metadata": {},
     "output_type": "execute_result"
    }
   ],
   "source": [
    "# Conferindo os percentuais de inadimplência para cada finalidade de crédito e analise-os\n",
    "print('Pagamento em dia')\n",
    "debt_0 = dados[dados['debt'] == 0]\n",
    "print(debt_0.groupby('purpose_group')['debt'].mean().sort_values(ascending=False))\n",
    "\n",
    "print()\n",
    "# Calculando a taxa de inadimplência com base na finalidade de crédito\n",
    "print('Em dívida')\n",
    "debt_1 = dados[dados['debt'] == 1]\n",
    "print(debt_1.groupby('purpose_group')['debt'].mean().sort_values(ascending=False))\n",
    "\n",
    "# Calculando a taxa padrão com base na finalidade de crédito\n",
    "dados.groupby('purpose_group')['debt'].mean().sort_values(ascending=False)"
   ]
  },
  {
   "cell_type": "markdown",
   "metadata": {},
   "source": [
    "**Conclusão**\n",
    "\n",
    "Pela análise, as pessoas que não pagam as dívidas de acordo com a finalidade é proporcional, portanto acredito que a finalidade não influencia se o cliente paga ou não suas dívidas.\n"
   ]
  },
  {
   "cell_type": "markdown",
   "metadata": {},
   "source": [
    "# Conclusão Geral \n",
    "\n",
    "As duplicatas foram removidas, tanto implícitas quanto explícitas; os valores ausentes foram preenchidos com a média ou mediana da coluna, analisada observando se havia ou não valores atípicos significativos; foram criadas novas colunas para categoria de dos dados, para facilitar a análise das hipóteses; e por fim, chegamos a conclusão de que o padrão mais provável de pessoas que não pagam suas dívidas, são pessoas com renda maior que 350000.\n",
    "\n",
    "- Valores ausentes identificados: As colunas 'days_employed' e 'total_income' tinham valores ausentes.\n",
    "- Possíveis razões que esses valores ausentes estavam presentes: Na análise, não foi achado nenhum motivo específico para os valores estarem ausentes, acredito que eram aleatórios.\n",
    "- Método usado para preencher os valores ausentes: A média ou a mediana, dependendo do caso de haver valores atípicos significativos.\n",
    "- Método usado para localizar e excluir dados duplicados: Método duplicated() foi usado para achar duplicatas e drop_duplicates() para excluí-los. Quanto as duplicatas implícitas foram encontradas nas análises das colunas, em que os valores estavam com letras maiúsculas e minúsculas, e foram resolvidas com a função .str.lower()).\n",
    "- Possíveis razões para a presença de dados duplicados: Digitação errada por parte do usuário ou funcionário; ou então erros ao importar os dados.\n",
    "- Método usado para alterar o tipo de dados: Método astype().\n",
    "\n",
    "**Perguntas:**\n",
    "- Existe alguma relação entre ter filhos e pagar um empréstimo em dia? A taxa padrão com base no número de filhos é proporcional, sendo aleatório a quantidade de filhos de pessoas com dívidas e sem dívidas.\n",
    "- Existe alguma relação entre o estado civil e o pagamento de um empréstimo no prazo estipulado? O estado civil para clientes com dívidas e sem dívidas é proporcional, portanto acredito que o estado civil não influencia se o cliente paga ou não suas dívidas.\n",
    "- Existe uma relação entre o nível de renda e o pagamento de um empréstimo no prazo? 50% das pessoas que não pagam suas dívidas têm a renda maior que 350000; pessoas que ganham menos possuem pequenas taxas de inadimplência (inferiores a 10%), portanto ter a renda maior que 350000 pode sim ser um padrão de pessoas que não pagam suas dívidas.\n",
    "- Como as diferentes finalidades do empréstimo afetam o pagamento pontual do empréstimo? Pela análise, as pessoas que não pagam as dívidas de acordo com a finalidade é proporcional com a pessoas que pagam as dívidas, portanto acredito que a finalidade não influencia se o cliente paga ou não suas dívidas, a finalidade é aleatória.\n",
    "\n"
   ]
  }
 ],
 "metadata": {
  "ExecuteTimeLog": [
   {
    "duration": 2741,
    "start_time": "2021-10-21T01:08:49.480Z"
   },
   {
    "duration": 52,
    "start_time": "2021-10-21T01:08:53.315Z"
   },
   {
    "duration": 49,
    "start_time": "2021-10-21T01:08:57.432Z"
   },
   {
    "duration": 70,
    "start_time": "2021-10-21T01:09:07.706Z"
   }
  ],
  "kernelspec": {
   "display_name": "Python 3 (ipykernel)",
   "language": "python",
   "name": "python3"
  },
  "language_info": {
   "codemirror_mode": {
    "name": "ipython",
    "version": 3
   },
   "file_extension": ".py",
   "mimetype": "text/x-python",
   "name": "python",
   "nbconvert_exporter": "python",
   "pygments_lexer": "ipython3",
   "version": "3.9.5"
  },
  "toc": {
   "base_numbering": 1,
   "nav_menu": {},
   "number_sections": true,
   "sideBar": true,
   "skip_h1_title": true,
   "title_cell": "Table of Contents",
   "title_sidebar": "Contents",
   "toc_cell": false,
   "toc_position": {},
   "toc_section_display": true,
   "toc_window_display": false
  }
 },
 "nbformat": 4,
 "nbformat_minor": 2
}
